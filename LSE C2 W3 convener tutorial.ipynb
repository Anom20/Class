{
 "cells": [
  {
   "cell_type": "markdown",
   "id": "48c017c5",
   "metadata": {},
   "source": [
    "# LSE Course 2 Week 3: Convener tutorial videos"
   ]
  },
  {
   "cell_type": "markdown",
   "id": "677598c2",
   "metadata": {},
   "source": [
    "## Concat multiple DataFrames with Pandas"
   ]
  },
  {
   "cell_type": "markdown",
   "id": "a64c16e2",
   "metadata": {},
   "source": [
    "### Video brief:\n",
    "Helping a professor in need with the concat() function: This tutorial is a response to a scenario presented on the page about a request from a professor for help to keep track of her students. The video comes after we've introduced the concat() function and takes the learners through four simple steps to help solve Prof Minnaar issue (which will be presented as an email in the video). Information about the merge() function comes after the video."
   ]
  },
  {
   "cell_type": "markdown",
   "id": "7a9ff7c9",
   "metadata": {},
   "source": [
    "# "
   ]
  },
  {
   "cell_type": "markdown",
   "id": "6b56208c",
   "metadata": {},
   "source": [
    "## Step 1: Import CSV files"
   ]
  },
  {
   "cell_type": "code",
   "execution_count": 1,
   "id": "edf174db",
   "metadata": {},
   "outputs": [],
   "source": [
    "# import libraries\n",
    "import pandas as pd\n",
    "import numpy as np"
   ]
  },
  {
   "cell_type": "code",
   "execution_count": 3,
   "id": "87f8afdd",
   "metadata": {},
   "outputs": [],
   "source": [
    "# read CSV files\n",
    "classlist_a = pd.read_csv(\"classlist_a.csv\")\n",
    "classlist_b = pd.read_csv(\"classlist_b.csv\")\n",
    "classlist_c = pd.read_csv(\"classlist_c.csv\")\n",
    "classlist_d = pd.read_csv(\"classlist_d.csv\")"
   ]
  },
  {
   "cell_type": "markdown",
   "id": "1893d38d",
   "metadata": {},
   "source": [
    "# "
   ]
  },
  {
   "cell_type": "markdown",
   "id": "1bed43c2",
   "metadata": {},
   "source": [
    "## Step 2: Concat four files "
   ]
  },
  {
   "cell_type": "code",
   "execution_count": 6,
   "id": "98949d4b",
   "metadata": {},
   "outputs": [
    {
     "data": {
      "text/html": [
       "<div>\n",
       "<style scoped>\n",
       "    .dataframe tbody tr th:only-of-type {\n",
       "        vertical-align: middle;\n",
       "    }\n",
       "\n",
       "    .dataframe tbody tr th {\n",
       "        vertical-align: top;\n",
       "    }\n",
       "\n",
       "    .dataframe thead th {\n",
       "        text-align: right;\n",
       "    }\n",
       "</style>\n",
       "<table border=\"1\" class=\"dataframe\">\n",
       "  <thead>\n",
       "    <tr style=\"text-align: right;\">\n",
       "      <th></th>\n",
       "      <th>Student number</th>\n",
       "      <th>Surname</th>\n",
       "      <th>Initials</th>\n",
       "      <th>Final mark</th>\n",
       "      <th>Class</th>\n",
       "    </tr>\n",
       "  </thead>\n",
       "  <tbody>\n",
       "    <tr>\n",
       "      <th>0</th>\n",
       "      <td>15476227</td>\n",
       "      <td>AFONSO</td>\n",
       "      <td>L</td>\n",
       "      <td>47.72</td>\n",
       "      <td>E</td>\n",
       "    </tr>\n",
       "    <tr>\n",
       "      <th>1</th>\n",
       "      <td>15311279</td>\n",
       "      <td>ALBERTYN</td>\n",
       "      <td>F J H</td>\n",
       "      <td>57.52</td>\n",
       "      <td>A</td>\n",
       "    </tr>\n",
       "    <tr>\n",
       "      <th>2</th>\n",
       "      <td>15637913</td>\n",
       "      <td>ALEXANDER</td>\n",
       "      <td>L</td>\n",
       "      <td>90.68</td>\n",
       "      <td>E</td>\n",
       "    </tr>\n",
       "    <tr>\n",
       "      <th>3</th>\n",
       "      <td>15124150</td>\n",
       "      <td>BAM</td>\n",
       "      <td>A J</td>\n",
       "      <td>56.43</td>\n",
       "      <td>E</td>\n",
       "    </tr>\n",
       "    <tr>\n",
       "      <th>4</th>\n",
       "      <td>15829626</td>\n",
       "      <td>BARROW</td>\n",
       "      <td>S B</td>\n",
       "      <td>79.64</td>\n",
       "      <td>E</td>\n",
       "    </tr>\n",
       "    <tr>\n",
       "      <th>...</th>\n",
       "      <td>...</td>\n",
       "      <td>...</td>\n",
       "      <td>...</td>\n",
       "      <td>...</td>\n",
       "      <td>...</td>\n",
       "    </tr>\n",
       "    <tr>\n",
       "      <th>214</th>\n",
       "      <td>16443144</td>\n",
       "      <td>WIJERS</td>\n",
       "      <td>MC</td>\n",
       "      <td>93.00</td>\n",
       "      <td>E</td>\n",
       "    </tr>\n",
       "    <tr>\n",
       "      <th>215</th>\n",
       "      <td>14955849</td>\n",
       "      <td>WIJNBERG</td>\n",
       "      <td>JM</td>\n",
       "      <td>47.00</td>\n",
       "      <td>E</td>\n",
       "    </tr>\n",
       "    <tr>\n",
       "      <th>216</th>\n",
       "      <td>17140293</td>\n",
       "      <td>WILLIAMS</td>\n",
       "      <td>CA</td>\n",
       "      <td>43.00</td>\n",
       "      <td>A</td>\n",
       "    </tr>\n",
       "    <tr>\n",
       "      <th>217</th>\n",
       "      <td>16771354</td>\n",
       "      <td>WOLHUTER</td>\n",
       "      <td>J</td>\n",
       "      <td>76.00</td>\n",
       "      <td>E</td>\n",
       "    </tr>\n",
       "    <tr>\n",
       "      <th>218</th>\n",
       "      <td>17094607</td>\n",
       "      <td>ZINN</td>\n",
       "      <td>A</td>\n",
       "      <td>74.00</td>\n",
       "      <td>E</td>\n",
       "    </tr>\n",
       "  </tbody>\n",
       "</table>\n",
       "<p>675 rows × 5 columns</p>\n",
       "</div>"
      ],
      "text/plain": [
       "     Student number                         Surname    Initials  Final mark  \\\n",
       "0          15476227                          AFONSO           L       47.72   \n",
       "1          15311279                        ALBERTYN       F J H       57.52   \n",
       "2          15637913                       ALEXANDER           L       90.68   \n",
       "3          15124150                             BAM         A J       56.43   \n",
       "4          15829626                          BARROW         S B       79.64   \n",
       "..              ...                             ...         ...         ...   \n",
       "214        16443144  WIJERS                          MC               93.00   \n",
       "215        14955849  WIJNBERG                        JM               47.00   \n",
       "216        17140293  WILLIAMS                        CA               43.00   \n",
       "217        16771354  WOLHUTER                        J                76.00   \n",
       "218        17094607  ZINN                            A                74.00   \n",
       "\n",
       "    Class  \n",
       "0       E  \n",
       "1       A  \n",
       "2       E  \n",
       "3       E  \n",
       "4       E  \n",
       "..    ...  \n",
       "214     E  \n",
       "215     E  \n",
       "216     A  \n",
       "217     E  \n",
       "218     E  \n",
       "\n",
       "[675 rows x 5 columns]"
      ]
     },
     "execution_count": 6,
     "metadata": {},
     "output_type": "execute_result"
    }
   ],
   "source": [
    "# concat all four DataFrames\n",
    "classlist_final = pd.concat([classlist_a, classlist_b, classlist_c, classlist_d])\n",
    "classlist_final"
   ]
  },
  {
   "cell_type": "code",
   "execution_count": null,
   "id": "104aafe3",
   "metadata": {},
   "outputs": [],
   "source": []
  }
 ],
 "metadata": {
  "kernelspec": {
   "display_name": "Python 3 (ipykernel)",
   "language": "python",
   "name": "python3"
  },
  "language_info": {
   "codemirror_mode": {
    "name": "ipython",
    "version": 3
   },
   "file_extension": ".py",
   "mimetype": "text/x-python",
   "name": "python",
   "nbconvert_exporter": "python",
   "pygments_lexer": "ipython3",
   "version": "3.9.7"
  }
 },
 "nbformat": 4,
 "nbformat_minor": 5
}
